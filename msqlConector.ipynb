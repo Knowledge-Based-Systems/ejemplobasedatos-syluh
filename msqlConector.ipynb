{
 "cells": [
  {
   "cell_type": "code",
   "execution_count": 2,
   "id": "f39f93c6",
   "metadata": {},
   "outputs": [
    {
     "name": "stdout",
     "output_type": "stream",
     "text": [
      "<mysql.connector.connection_cext.CMySQLConnection object at 0x7f0b806f12a0>\n"
     ]
    }
   ],
   "source": [
    "#Imports necesarios\n",
    "import mysql.connector\n",
    "\n",
    "#Parametros para la conexión\n",
    "dataBase = mysql.connector.connect(\n",
    "  host =\"localhost\",\n",
    "  user =\"root\",\n",
    "  passwd =\"AGOSTO27\",\n",
    ")\n",
    "print(dataBase)\n",
    "  \n",
    "# Disconnecting from the server\n",
    "# dataBase.close()"
   ]
  },
  {
   "cell_type": "code",
   "execution_count": 3,
   "id": "42881ec0",
   "metadata": {},
   "outputs": [],
   "source": [
    "# Se conecta a la base de datos con el cursor\n",
    "cursorO = dataBase.cursor()"
   ]
  },
  {
   "cell_type": "code",
   "execution_count": 6,
   "id": "ddaf14fd",
   "metadata": {},
   "outputs": [],
   "source": [
    "#Se crea una base de datos llamada prrueba\n",
    "cursorO.execute(\"CREATE DATABASE PRUEBA\")\n",
    "cursorO.execute(\"USE  PRUEBA\")"
   ]
  },
  {
   "cell_type": "code",
   "execution_count": 7,
   "id": "99d267a6",
   "metadata": {},
   "outputs": [],
   "source": [
    "# Se crea una tabla en la base de datos EMPLEADO\n",
    "# Ejecutar una sola vez\n",
    "tablapruebas = \"\"\"CREATE TABLE EMPLEADO (\n",
    "cedula VARCHAR(10) NOT NULL,\n",
    "sueldo VARCHAR(10) NOT NULL,\n",
    "nombres VARCHAR(50) NOT NULL,\n",
    "apellidos VARCHAR(50) NOT NULL,\n",
    "fecha_nacimiento DATE NOT NULL, \n",
    "PRIMARY KEY(cedula)\n",
    ")\"\"\"\n",
    "\n",
    "cursorO.execute(tablapruebas)"
   ]
  },
  {
   "cell_type": "code",
   "execution_count": 8,
   "id": "0250d0ef",
   "metadata": {},
   "outputs": [],
   "source": [
    "# Creamos un insert \n",
    "# Ejecutar una sola vez\n",
    "paraInsertar = \"\"\"INSERT INTO EMPLEADO (cedula, sueldo, nombres, apellidos, fecha_nacimiento)\\\n",
    "VALUES (%s, %s,%s, %s, %s)\"\"\""
   ]
  },
  {
   "cell_type": "code",
   "execution_count": 9,
   "id": "b29d7c37",
   "metadata": {},
   "outputs": [],
   "source": [
    "# Probamos insertar una fila en la tabla EMPLEADO\n",
    "valor = (\"1103689761\",\"4000\", \"Víctor\", \"Carrión\",\"2002-08-27\")\n",
    "\n",
    "cursorO.execute(paraInsertar, valor)\n",
    "dataBase.commit()"
   ]
  },
  {
   "cell_type": "code",
   "execution_count": 11,
   "id": "b892832c",
   "metadata": {},
   "outputs": [],
   "source": [
    "# Probamos insertar varias filas a la vez en la base de datos\n",
    "datosEmpleados = [\n",
    "    (\"1105667271\",\"45654\", \"María\", \"Pineda\", \"2002-05-27\"),\n",
    "    (\"1607892657\",\"34534\", \"Julio\", \"Luna\", \"2002-09-05\"),\n",
    "    (\"1101788961\",\"3244\", \"Kevin\", \"Cabrera\", \"2003-07-06\"),\n",
    "    (\"1107128839\", \"3333\",\"Ana\", \"Aguirre\", \"2002-04-07\")\n",
    "\n",
    "]\n",
    "\n",
    "cursorO.executemany(paraInsertar, datosEmpleados )\n",
    "dataBase.commit()"
   ]
  },
  {
   "cell_type": "code",
   "execution_count": 13,
   "id": "ffa508e3",
   "metadata": {},
   "outputs": [],
   "source": [
    "# Actualizamos un campo en la tabla Empleados \n",
    "actualizar = \"UPDATE EMPLEADO SET sueldo = '4000' WHERE cedula = '1103689761'\"\n",
    "\n",
    "cursorO.execute(actualizar)\n",
    "dataBase.commit()"
   ]
  },
  {
   "cell_type": "code",
   "execution_count": 15,
   "id": "fbdab948",
   "metadata": {},
   "outputs": [],
   "source": [
    "# Añadimos un campo adicional a la tabla Empleado\n",
    "addCampo = \"ALTER TABLE EMPLEADO ADD email VARCHAR(15) DEFAULT NULL\"\n",
    "\n",
    "cursorO.execute(addCampo)\n",
    "dataBase.commit()"
   ]
  },
  {
   "cell_type": "code",
   "execution_count": 17,
   "id": "9f45fff6",
   "metadata": {},
   "outputs": [],
   "source": [
    "# Actualizamos un campo en todas las filas de una tabla \n",
    "actualizartodos = \"UPDATE EMPLEADO SET sueldo = '45645'\"\n",
    "\n",
    "cursorO.execute(actualizartodos)\n",
    "dataBase.commit()"
   ]
  },
  {
   "cell_type": "code",
   "execution_count": 19,
   "id": "e5ecd611",
   "metadata": {},
   "outputs": [
    {
     "name": "stdout",
     "output_type": "stream",
     "text": [
      "('1101788961', '45645', 'Kevin', 'Cabrera', datetime.date(2003, 7, 6), None)\n",
      "('1103689761', '45645', 'Víctor', 'Carrión', datetime.date(2002, 8, 27), None)\n",
      "('1105667271', '45645', 'María', 'Pineda', datetime.date(2002, 5, 27), None)\n",
      "('1107128839', '45645', 'Ana', 'Aguirre', datetime.date(2002, 4, 7), None)\n",
      "('1607892657', '45645', 'Julio', 'Luna', datetime.date(2002, 9, 5), None)\n"
     ]
    }
   ],
   "source": [
    "# Consulta de una tabla\n",
    "\n",
    "consultaTodo = \"SELECT * FROM PRUEBA.EMPLEADO\"\n",
    "\n",
    "cursorO.execute(consultaTodo)\n",
    "\n",
    "resultadoUno = cursorO.fetchall()\n",
    "\n",
    "for x in resultadoUno:\n",
    "    print(x)"
   ]
  },
  {
   "cell_type": "code",
   "execution_count": 22,
   "id": "ad836d0c",
   "metadata": {},
   "outputs": [
    {
     "name": "stdout",
     "output_type": "stream",
     "text": [
      "('1103689761', '45645', 'Víctor', 'Carrión', datetime.date(2002, 8, 27), None)\n"
     ]
    }
   ],
   "source": [
    "# Consulta selectiva de una tabla\n",
    "consultaSelectiva = \"\"\"SELECT * FROM PRUEBA.EMPLEADO\n",
    "WHERE (nombres = 'Víctor')\"\"\"\n",
    "\n",
    "cursorO.execute(consultaSelectiva)\n",
    "\n",
    "resultadoDos = cursorO.fetchall()\n",
    "\n",
    "for x in resultadoDos:\n",
    "    print(x)"
   ]
  },
  {
   "cell_type": "code",
   "execution_count": 23,
   "id": "c6555014",
   "metadata": {},
   "outputs": [],
   "source": [
    "dataBase.close()"
   ]
  },
  {
   "cell_type": "code",
   "execution_count": null,
   "id": "c10eee09",
   "metadata": {},
   "outputs": [],
   "source": []
  }
 ],
 "metadata": {
  "kernelspec": {
   "display_name": "Python 3 (ipykernel)",
   "language": "python",
   "name": "python3"
  },
  "language_info": {
   "codemirror_mode": {
    "name": "ipython",
    "version": 3
   },
   "file_extension": ".py",
   "mimetype": "text/x-python",
   "name": "python",
   "nbconvert_exporter": "python",
   "pygments_lexer": "ipython3",
   "version": "3.10.4"
  }
 },
 "nbformat": 4,
 "nbformat_minor": 5
}
